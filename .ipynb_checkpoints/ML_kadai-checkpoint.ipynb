{
 "cells": [
  {
   "cell_type": "markdown",
   "metadata": {},
   "source": [
    "# CreatorsHive Sコース昇格課題　ー機械学習編ー  \n",
    "## 課題  \n",
    "Titanicデータセットから機械学習を利用して，顧客が生存したかを推定しなさい．  \n",
    "処理の流れは指定されたとおりに行いその実行コードと実行結果をJupyter-Notebookで保存して提出しなさい．  \n",
    "## データセット内容  \n",
    "今回利用するデータセットはTitanic号に載っていた顧客の情報とその顧客が事故後に生存したかが記載されているデータセットである．  \n",
    "データのカラムは以下の通りである． \n",
    "* PassengerId：顧客ID  \n",
    "* Survived：生存したかどうか\n",
    "* Pclass:階級\n",
    "* Name：氏名\n",
    "* Sex：性別\n",
    "* Age：年齢\n",
    "* SibSp：一緒に乗船した兄弟・配偶者の人数\n",
    "* Parch：一緒に乗船した親・子供の人数\n",
    "* Ticket：チケット番号\n",
    "* Fare：乗船料金\n",
    "* Cabin：部屋番号\n",
    "* Embarked：乗船した港（C = Cherbourg, Q = Queenstown, S = Southamton)\n",
    "## 使用ライブラリ\n",
    "* numpy\n",
    "* pandas\n",
    "* scikit-learn"
   ]
  },
  {
   "cell_type": "markdown",
   "metadata": {},
   "source": [
    "## 1.1 データ読み込み  \n",
    "pandas で train.csv を読み込み、読み込んだデータの先頭 5 行を表示しなさい．"
   ]
  },
  {
   "cell_type": "code",
   "execution_count": null,
   "metadata": {
    "collapsed": true
   },
   "outputs": [],
   "source": []
  },
  {
   "cell_type": "markdown",
   "metadata": {},
   "source": [
    "## 1.2 前処理：不要なカラムの削除\n",
    "読み込んだデータのカラムで前処理が難しいもの，もしくは生存者を推定する際に必要でないものを考え，削除しなさい．  \n",
    "取り除いたデータの先頭5行を出力しなさい．  \n",
    "例：Cabin（部屋番号）は特に規則性がなくまた、前処理が難しいため削除する．  "
   ]
  },
  {
   "cell_type": "code",
   "execution_count": null,
   "metadata": {
    "collapsed": true
   },
   "outputs": [],
   "source": []
  },
  {
   "cell_type": "markdown",
   "metadata": {},
   "source": [
    "## 1.3 前処理:カテゴリデータの加工\n",
    "カラムの中には数値でないデータが存在する．  \n",
    "そのデータを機械学習で利用できるように数値に変換をする．  "
   ]
  },
  {
   "cell_type": "markdown",
   "metadata": {},
   "source": [
    "### 1.3.1 ラベルエンコーディング \n",
    "値が２種類のカラムを探しそのカラムの値を0,1に変換しなさい．  \n",
    "処理後のデータの先頭5行を出力しなさい．  "
   ]
  },
  {
   "cell_type": "code",
   "execution_count": null,
   "metadata": {
    "collapsed": true
   },
   "outputs": [],
   "source": []
  },
  {
   "cell_type": "markdown",
   "metadata": {},
   "source": [
    "### 1.3.2 one-hotエンコーディング  \n",
    "値が3種類以上ある場合、ラベルエンコーディングを適応させることはできない．  \n",
    "one-hotエンコーディング，もしくはダミー変数化を利用して数値に変換しなさい．  \n",
    "処理後のデータの先頭５行を出力しなさい．  "
   ]
  },
  {
   "cell_type": "code",
   "execution_count": null,
   "metadata": {
    "collapsed": true
   },
   "outputs": [],
   "source": []
  },
  {
   "cell_type": "markdown",
   "metadata": {},
   "source": [
    "## 1.4 前処理:欠損値の補完"
   ]
  },
  {
   "cell_type": "markdown",
   "metadata": {},
   "source": [
    "データには欠損値（不明な値：NaN）が存在する．  \n",
    "NaNが入っている顧客データを利用するには,NaNを数値に変換する必要がある．  \n",
    "処理の手法としては  \n",
    " - その顧客データの削除  \n",
    " - 平均値を代入  \n",
    " - 他の変数から重回帰  \n",
    "\n",
    "などが挙げられる．  \n",
    "以上の手法の中で一つを利用して欠損値を補完しなさい．  "
   ]
  },
  {
   "cell_type": "code",
   "execution_count": null,
   "metadata": {
    "collapsed": true
   },
   "outputs": [],
   "source": []
  },
  {
   "cell_type": "markdown",
   "metadata": {},
   "source": [
    "## 1.5 学習（決定木分析）\n",
    "加工したデータを元にして学習を行い，生存者を推定する分類器を作成する．  "
   ]
  },
  {
   "cell_type": "markdown",
   "metadata": {},
   "source": [
    "データを学習用のデータを分類器が正しく推定しているかどうかを検証する検証用データの２つに分割しなさい．  \n",
    "比率は  \n",
    "学習用：検証用　= 80：20  \n",
    "とする．  \n",
    "その後学習用データを利用し学習しなさい．  "
   ]
  },
  {
   "cell_type": "code",
   "execution_count": null,
   "metadata": {
    "collapsed": true
   },
   "outputs": [],
   "source": []
  },
  {
   "cell_type": "markdown",
   "metadata": {},
   "source": [
    "## 1.6 評価  \n",
    "学習した分類器が正しく推定できているかどうかを確かめる．  \n",
    "検証用データを利用して，精度（生存者推定の正答率）を出力しなさい．  "
   ]
  },
  {
   "cell_type": "code",
   "execution_count": null,
   "metadata": {
    "collapsed": true
   },
   "outputs": [],
   "source": []
  },
  {
   "cell_type": "markdown",
   "metadata": {},
   "source": [
    "## 1.7 前処理の比較  \n",
    "一通り行った前処理を改めて見直し，精度を上げるために改善できそうな点を考慮して，再度  \n",
    "前処理，学習，評価を行いなさい．  \n",
    "その際に工夫した点を記述しなさい．  "
   ]
  },
  {
   "cell_type": "code",
   "execution_count": null,
   "metadata": {
    "collapsed": true
   },
   "outputs": [],
   "source": []
  }
 ],
 "metadata": {
  "kernelspec": {
   "display_name": "Python 3",
   "language": "python",
   "name": "python3"
  },
  "language_info": {
   "codemirror_mode": {
    "name": "ipython",
    "version": 3
   },
   "file_extension": ".py",
   "mimetype": "text/x-python",
   "name": "python",
   "nbconvert_exporter": "python",
   "pygments_lexer": "ipython3",
   "version": "3.5.1"
  }
 },
 "nbformat": 4,
 "nbformat_minor": 2
}
