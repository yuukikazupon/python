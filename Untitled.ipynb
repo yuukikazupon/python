{
 "cells": [
  {
   "cell_type": "code",
   "execution_count": 9,
   "metadata": {},
   "outputs": [
    {
     "name": "stdout",
     "output_type": "stream",
     "text": [
      "4\n",
      "素数ではない\n"
     ]
    }
   ],
   "source": [
    "num=int(input())\n",
    "def hantei(x):\n",
    "    c=0\n",
    "    a=x\n",
    "    while x>2:\n",
    "        x-=1\n",
    "        if a%x==0:\n",
    "            c=1\n",
    "            break\n",
    "        else:\n",
    "            pass\n",
    "    \n",
    "    if c==1:\n",
    "        print(\"素数ではない\")\n",
    "    elif num==1:\n",
    "         print(\"素数ではない\")\n",
    "    else:\n",
    "        print(\"素数\")\n",
    "\n",
    "hantei(num)"
   ]
  },
  {
   "cell_type": "code",
   "execution_count": 14,
   "metadata": {},
   "outputs": [
    {
     "name": "stdout",
     "output_type": "stream",
     "text": [
      "[12, 253, 240]\n"
     ]
    }
   ],
   "source": [
    "rain = [168, 109, 146, 242, 381, 539, 474, 12, 253, 240, 90, 103]\n",
    "print(rain[7:10])"
   ]
  },
  {
   "cell_type": "code",
   "execution_count": 15,
   "metadata": {},
   "outputs": [
    {
     "name": "stdout",
     "output_type": "stream",
     "text": [
      "229.75\n"
     ]
    }
   ],
   "source": [
    "rain = [168, 109, 146, 242, 381, 539, 474, 12, 253, 240, 90, 103]\n",
    "print(sum(rain)/len(rain))"
   ]
  },
  {
   "cell_type": "code",
   "execution_count": 17,
   "metadata": {},
   "outputs": [
    {
     "name": "stdout",
     "output_type": "stream",
     "text": [
      "元日\n"
     ]
    }
   ],
   "source": [
    "japanese_holiday= {\n",
    "    \"1/01\": \"元日\",\n",
    "    \"1/02\": \"振替休日\",\n",
    "    \"1/09\": \"成人の日\",\n",
    "    \"2/11\": \"建国記念日\",\n",
    "    \"3/20\": \"春分の日\",\n",
    "    \"4/29\": \"昭和の日\",\n",
    "    \"5/03\": \"憲法記念日\",\n",
    "    \"5/04\": \"みどりの日\",\n",
    "    \"5/05\": \"こどもの日\",\n",
    "    \"7/17\": \"海の日\",\n",
    "    \"8/11\": \"山の日\",\n",
    "    \"9/18\": \"敬老の日\",\n",
    "    \"9/23\": \"秋分の日\",\n",
    "    \"10/09\": \"体育の日\",\n",
    "    \"11/3\": \"文化の日\",\n",
    "    \"11/23\": \"敬老感謝の日\",\n",
    "    \"12/23\": \"天皇誕生日\"}\n",
    "\n",
    "print(japanese_holiday[\"1/01\"])"
   ]
  },
  {
   "cell_type": "code",
   "execution_count": 28,
   "metadata": {},
   "outputs": [
    {
     "name": "stdout",
     "output_type": "stream",
     "text": [
      "['a', 'b']\n"
     ]
    }
   ],
   "source": [
    "def ketugou(a,b):\n",
    "    c=dict(zip(a,b))\n",
    "    return c\n",
    "\n",
    "d=[1,2,3]\n",
    "e=[10,20,30]\n",
    "\n",
    "ketugou(d,e)\n",
    "\n"
   ]
  },
  {
   "cell_type": "code",
   "execution_count": 25,
   "metadata": {},
   "outputs": [
    {
     "name": "stdout",
     "output_type": "stream",
     "text": [
      "111.41666666666667\n"
     ]
    }
   ],
   "source": [
    "person_age = [20, 33, 29, 29, 37, 37, 31, 20, 34, 24, 999, 44]\n",
    "a=0\n",
    "for i in person_age:\n",
    "    a=a+i\n",
    "print(a/len(person_age))\n",
    "    "
   ]
  },
  {
   "cell_type": "code",
   "execution_count": 1,
   "metadata": {},
   "outputs": [
    {
     "name": "stdout",
     "output_type": "stream",
     "text": [
      "look 10\n",
      "at 2\n",
      "the 4\n",
      "stars 2\n",
      "how 8\n",
      "they 9\n",
      "shine 8\n",
      "for 12\n",
      "you 21\n",
      "and 9\n",
      "everything 1\n",
      "do 5\n",
      "yeah 3\n",
      "were 2\n",
      "all 6\n",
      "yellow 5\n",
      "i 9\n",
      "came 1\n",
      "along 1\n",
      "wrote 1\n",
      "a 6\n",
      "song 1\n",
      "things 2\n",
      "it 3\n",
      "was 3\n",
      "called 1\n",
      "so 3\n",
      "then 1\n",
      "took 1\n",
      "my 1\n",
      "turn 3\n",
      "oh 5\n",
      "what 3\n",
      "thing 3\n",
      "to 3\n",
      "have 1\n",
      "done 1\n",
      "your 4\n",
      "skin 4\n",
      "bones 2\n",
      "into 2\n",
      "something 2\n",
      "beautiful 2\n",
      "know 4\n",
      "love 2\n",
      "swam 1\n",
      "across 2\n",
      "jumped 1\n",
      "cause 1\n",
      "drew 2\n",
      "line 2\n",
      "i'd 2\n",
      "bleed 2\n",
      "myself 2\n",
      "dry 2\n",
      "it's 1\n",
      "true 1\n",
      "that 1\n"
     ]
    }
   ],
   "source": [
    "text = '''\n",
    "Look at the stars\n",
    "Look how they shine for you\n",
    "And everything you do\n",
    "Yeah they were all yellow\n",
    "I came along\n",
    "I wrote a song for you\n",
    "And all the things you do\n",
    "And it was called yellow\n",
    "So then I took my turn\n",
    "Oh what a thing to have done\n",
    "And it was all yellow\n",
    "Your skin\n",
    "Oh yeah your skin and bones\n",
    "Turn into something beautiful\n",
    "You know you know I love you so\n",
    "You know I love you so\n",
    "I swam across\n",
    "I jumped across for you\n",
    "Oh what a thing to do\n",
    "Cause you were all yellow\n",
    "I drew a line\n",
    "I drew a line for you\n",
    "Oh what a thing to do\n",
    "And it was all yellow\n",
    "Your skin\n",
    "Oh yeah your skin and bones\n",
    "Turn into something beautiful\n",
    "And you know\n",
    "For you I'd bleed myself dry\n",
    "For you I'd bleed myself dry\n",
    "It's true\n",
    "Look how they shine for you\n",
    "Look how they shine for you\n",
    "Look how they shine for\n",
    "Look how they shine for you\n",
    "Look how they shine for you\n",
    "Look how they shine\n",
    "Look at the stars\n",
    "Look how they shine for you\n",
    "And all the things that you do\n",
    "'''\n",
    "counter={}\n",
    "t=text.split()\n",
    "for i in t:\n",
    "    i_s=i.lower()\n",
    "    if i_s not in counter:\n",
    "        counter[i_s]=1\n",
    "    else:\n",
    "        counter[i_s]+=1\n",
    "\n",
    "for m,n in counter.items():\n",
    "    print(m,n)\n",
    "    \n",
    "    \n",
    "    \n",
    "    \n",
    "\n",
    "\n"
   ]
  },
  {
   "cell_type": "code",
   "execution_count": 23,
   "metadata": {},
   "outputs": [
    {
     "name": "stdout",
     "output_type": "stream",
     "text": [
      "look 10\n",
      "at 2\n",
      "the 4\n",
      "stars 2\n",
      "how 8\n",
      "they 9\n",
      "shine 8\n",
      "for 12\n",
      "you 21\n",
      "and 9\n",
      "everything 1\n",
      "do 5\n",
      "yeah 3\n",
      "were 2\n",
      "all 6\n",
      "yellow 5\n",
      "i 9\n",
      "came 1\n",
      "along 1\n",
      "wrote 1\n",
      "a 6\n",
      "song 1\n",
      "things 2\n",
      "it 3\n",
      "was 3\n",
      "called 1\n",
      "so 3\n",
      "then 1\n",
      "took 1\n",
      "my 1\n",
      "turn 3\n",
      "oh 5\n",
      "what 3\n",
      "thing 3\n",
      "to 3\n",
      "have 1\n",
      "done 1\n",
      "your 4\n",
      "skin 4\n",
      "bones 2\n",
      "into 2\n",
      "something 2\n",
      "beautiful 2\n",
      "know 4\n",
      "love 2\n",
      "swam 1\n",
      "across 2\n",
      "jumped 1\n",
      "cause 1\n",
      "drew 2\n",
      "line 2\n",
      "i'd 2\n",
      "bleed 2\n",
      "myself 2\n",
      "dry 2\n",
      "it's 1\n",
      "true 1\n",
      "that 1\n"
     ]
    }
   ],
   "source": [
    "text = '''\n",
    "Look at the stars\n",
    "Look how they shine for you\n",
    "And everything you do\n",
    "Yeah they were all yellow\n",
    "I came along\n",
    "I wrote a song for you\n",
    "And all the things you do\n",
    "And it was called yellow\n",
    "So then I took my turn\n",
    "Oh what a thing to have done\n",
    "And it was all yellow\n",
    "Your skin\n",
    "Oh yeah your skin and bones\n",
    "Turn into something beautiful\n",
    "You know you know I love you so\n",
    "You know I love you so\n",
    "I swam across\n",
    "I jumped across for you\n",
    "Oh what a thing to do\n",
    "Cause you were all yellow\n",
    "I drew a line\n",
    "I drew a line for you\n",
    "Oh what a thing to do\n",
    "And it was all yellow\n",
    "Your skin\n",
    "Oh yeah your skin and bones\n",
    "Turn into something beautiful\n",
    "And you know\n",
    "For you I'd bleed myself dry\n",
    "For you I'd bleed myself dry\n",
    "It's true\n",
    "Look how they shine for you\n",
    "Look how they shine for you\n",
    "Look how they shine for\n",
    "Look how they shine for you\n",
    "Look how they shine for you\n",
    "Look how they shine\n",
    "Look at the stars\n",
    "Look how they shine for you\n",
    "And all the things that you do\n",
    "'''\n",
    "\n",
    "\n",
    "words = text.split( )#空白で区切って辞書型に\n",
    "counter = {}\n",
    "for i in words:\n",
    "    low = i.lower() #小文字に変換\n",
    "    if low in counter: #もし辞書型にすでに単語があれば１追加\n",
    "        counter[low] += 1\n",
    "    else :\n",
    "        counter[low] = 1 #もし無かったら追加\n",
    "        \n",
    "for k, v in (counter.items()):\n",
    "    print(k, v)"
   ]
  },
  {
   "cell_type": "code",
   "execution_count": 30,
   "metadata": {},
   "outputs": [
    {
     "name": "stdout",
     "output_type": "stream",
     "text": [
      "[1, 2, 'fizz', 4, 'buzz', 'fizz', 7, 8, 'fizz', 'buzz', 11, 'fizz', 13, 14, 'fizzbuzz', 16, 17, 'fizz', 19, 'buzz', 'fizz', 22, 23, 'fizz', 'buzz', 26, 'fizz', 28, 29, 'fizzbuzz', 31, 32, 'fizz', 34, 'buzz', 'fizz', 37, 38, 'fizz', 'buzz', 41, 'fizz', 43, 44, 'fizzbuzz', 46, 47, 'fizz', 49, 'buzz', 'fizz', 52, 53, 'fizz', 'buzz', 56, 'fizz', 58, 59, 'fizzbuzz', 61, 62, 'fizz', 64, 'buzz', 'fizz', 67, 68, 'fizz', 'buzz', 71, 'fizz', 73, 74, 'fizzbuzz', 76, 77, 'fizz', 79, 'buzz', 'fizz', 82, 83, 'fizz', 'buzz', 86, 'fizz', 88, 89, 'fizzbuzz', 91, 92, 'fizz', 94, 'buzz', 'fizz', 97, 98, 'fizz', 'buzz']\n"
     ]
    }
   ],
   "source": [
    "fizzbuzz=[\"fizzbuzz\" if i % 15==0  else \"fizz\" if i % 3==0 else  \"buzz\" if i % 5==0  else i for i in range(1,101)]\n",
    "print(fizzbuzz)"
   ]
  },
  {
   "cell_type": "code",
   "execution_count": 34,
   "metadata": {},
   "outputs": [
    {
     "name": "stdout",
     "output_type": "stream",
     "text": [
      "松屋\n"
     ]
    }
   ],
   "source": [
    "import random\n",
    "shops = [\n",
    "    '吉野家',\n",
    "    'すき家',\n",
    "    '松屋',\n",
    "]\n",
    "\n",
    "a=shops[random.randint(0,len(shops))-1]\n",
    "print(a)"
   ]
  },
  {
   "cell_type": "code",
   "execution_count": 51,
   "metadata": {},
   "outputs": [
    {
     "name": "stdout",
     "output_type": "stream",
     "text": [
      "['吉野家', 'すき家', '丸亀製麺', 'マクドナルド', '安楽亭']\n"
     ]
    }
   ],
   "source": [
    "shops = [\n",
    "    '吉野家',\n",
    "    'すき家',\n",
    "    '松屋',\n",
    "]\n",
    "\n",
    "shops.extend([\"丸亀製麺\",\"マクドナルド\",\"安楽亭\"])\n",
    "del shops[2]\n",
    "print(shops)"
   ]
  },
  {
   "cell_type": "code",
   "execution_count": 53,
   "metadata": {},
   "outputs": [
    {
     "name": "stdout",
     "output_type": "stream",
     "text": [
      "子供は何人？3\n",
      "大人は何人？3\n",
      "シニアは何人？1\n"
     ]
    },
    {
     "data": {
      "text/plain": [
       "5310.0"
      ]
     },
     "execution_count": 53,
     "metadata": {},
     "output_type": "execute_result"
    }
   ],
   "source": [
    "num_c=int(input(\"子供は何人？\"))\n",
    "num_a=int(input(\"大人は何人？\"))\n",
    "num_o=int(input(\"シニアは何人？\"))\n",
    "\n",
    "sum=num_c+num_a+num_o\n",
    "\n",
    "def ryoukin(a,b,c):\n",
    "    goukei=a*700+b*1000+c*800\n",
    "    \n",
    "    if sum >=7:\n",
    "        goukei=goukei*(1-0.1)\n",
    "    else:\n",
    "        goukei\n",
    "    return goukei\n",
    "    \n",
    "ryoukin(num_c,num_a,num_o)\n"
   ]
  },
  {
   "cell_type": "code",
   "execution_count": 2,
   "metadata": {},
   "outputs": [
    {
     "name": "stdout",
     "output_type": "stream",
     "text": [
      "整数を入力2\n",
      "3より小さいか５より大きい数\n"
     ]
    }
   ],
   "source": [
    "num=int(input(\"整数を入力\"))\n",
    "\n",
    "if (num >=3) and (num <=5):\n",
    "    print(\"3以上５以下の数を入力しました\")\n",
    "    \n",
    "elif (num < 3) or (num > 5):\n",
    "    print(\"3より小さいか５より大きい数を入力しました\")\n",
    "\n",
    "    \n",
    "\n"
   ]
  },
  {
   "cell_type": "code",
   "execution_count": 4,
   "metadata": {},
   "outputs": [
    {
     "name": "stdout",
     "output_type": "stream",
     "text": [
      "整数を入力7\n",
      "2\n",
      "4\n",
      "6\n"
     ]
    }
   ],
   "source": [
    "num=int(input(\"整数を入力\"))\n",
    "\n",
    "n=1\n",
    "while n <= num:\n",
    "    if n%2 == 0:\n",
    "        print(n)\n",
    "        \n",
    "    else:\n",
    "        n+=1\n",
    "        continue\n",
    "    n+=1\n",
    "    \n",
    "    "
   ]
  },
  {
   "cell_type": "code",
   "execution_count": 6,
   "metadata": {},
   "outputs": [
    {
     "name": "stdout",
     "output_type": "stream",
     "text": [
      "整数を入力60\n",
      "1\n",
      "2\n",
      "3\n",
      "4\n",
      "5\n",
      "6\n",
      "7\n",
      "8\n",
      "9\n",
      "10\n",
      "11\n",
      "12\n",
      "13\n",
      "14\n",
      "15\n",
      "16\n",
      "17\n",
      "18\n",
      "19\n",
      "20\n",
      "21\n",
      "22\n",
      "23\n",
      "24\n",
      "25\n",
      "26\n",
      "27\n",
      "28\n",
      "29\n"
     ]
    }
   ],
   "source": [
    "num=int(input(\"整数を入力\"))\n",
    "\n",
    "n=1\n",
    "while n <= num:\n",
    "    if n < 30 :\n",
    "        print(n)\n",
    "    else:\n",
    "        pass\n",
    "    n+=1"
   ]
  },
  {
   "cell_type": "code",
   "execution_count": 14,
   "metadata": {},
   "outputs": [
    {
     "name": "stdout",
     "output_type": "stream",
     "text": [
      "1\n",
      "2!\n",
      "FIZZ\n",
      "4!\n",
      "BUZZ\n",
      "FIZZ\n",
      "7\n",
      "8!\n",
      "FIZZ\n",
      "BUZZ\n",
      "11\n",
      "FIZZ\n",
      "13\n",
      "14!\n",
      "FIZZBUZZ\n",
      "16!\n",
      "17\n",
      "FIZZ\n",
      "19\n",
      "BUZZ\n",
      "FIZZ\n",
      "22!\n",
      "23\n",
      "FIZZ\n",
      "BUZZ\n",
      "26!\n",
      "FIZZ\n",
      "28!\n",
      "29\n",
      "FIZZBUZZ\n",
      "31\n",
      "32!\n",
      "FIZZ\n",
      "34!\n",
      "BUZZ\n",
      "FIZZ\n",
      "37\n",
      "38!\n",
      "FIZZ\n",
      "BUZZ\n",
      "41\n",
      "FIZZ\n",
      "43\n",
      "44!\n",
      "FIZZBUZZ\n",
      "46!\n",
      "47\n",
      "FIZZ\n",
      "49\n",
      "BUZZ\n",
      "FIZZ\n",
      "52!\n",
      "53\n",
      "FIZZ\n",
      "BUZZ\n",
      "56!\n",
      "FIZZ\n",
      "58!\n",
      "59\n",
      "FIZZBUZZ\n",
      "61\n",
      "62!\n",
      "FIZZ\n",
      "64!\n",
      "BUZZ\n",
      "FIZZ\n",
      "67\n",
      "68!\n",
      "FIZZ\n",
      "BUZZ\n",
      "71\n",
      "FIZZ\n",
      "73\n",
      "74!\n",
      "FIZZBUZZ\n",
      "76!\n",
      "77\n",
      "FIZZ\n",
      "79\n",
      "BUZZ\n",
      "FIZZ\n",
      "82!\n",
      "83\n",
      "FIZZ\n",
      "BUZZ\n",
      "86!\n",
      "FIZZ\n",
      "88!\n",
      "89\n",
      "FIZZBUZZ\n",
      "91\n",
      "92!\n",
      "FIZZ\n",
      "94!\n",
      "BUZZ\n",
      "FIZZ\n",
      "97\n",
      "98!\n",
      "FIZZ\n",
      "BUZZ\n"
     ]
    }
   ],
   "source": [
    "for i in range(1,101):\n",
    "    if i % 15 == 0:\n",
    "        print(\"FIZZBUZZ\")\n",
    "    elif i % 3 ==0 :\n",
    "        print(\"FIZZ\")\n",
    "    elif i % 5 ==0 :\n",
    "        print(\"BUZZ\")\n",
    "    \n",
    "    elif i % 2 == 0 :\n",
    "        print(str(i)+\"!\")\n",
    "        \n",
    "    else :\n",
    "        print(i)"
   ]
  },
  {
   "cell_type": "code",
   "execution_count": 20,
   "metadata": {},
   "outputs": [
    {
     "name": "stdout",
     "output_type": "stream",
     "text": [
      "整数を入力2\n"
     ]
    }
   ],
   "source": [
    "num=int(input(\"整数を入力\"))\n",
    "if (num>=10) and (num %2 == 0) :\n",
    "    print(num)\n",
    "else :\n",
    "    pass"
   ]
  },
  {
   "cell_type": "code",
   "execution_count": 26,
   "metadata": {},
   "outputs": [
    {
     "name": "stdout",
     "output_type": "stream",
     "text": [
      "bird\n",
      "flog\n",
      "snake\n"
     ]
    }
   ],
   "source": [
    "pet_list = [\"dog\", \"bird\", \"cat\", \"flog\", \"snake\",\"rat\"]\n",
    "pet_list.append(\"rat\")\n",
    "for i in pet_list :\n",
    "    if len(i) >=4 :\n",
    "        print(i)"
   ]
  },
  {
   "cell_type": "code",
   "execution_count": 28,
   "metadata": {},
   "outputs": [
    {
     "name": "stdout",
     "output_type": "stream",
     "text": [
      "rat\n",
      "snake\n",
      "flog\n",
      "cat\n",
      "bird\n",
      "dog\n"
     ]
    }
   ],
   "source": [
    "pet_list = [\"dog\", \"bird\", \"cat\", \"flog\", \"snake\",\"rat\"]\n",
    "for i in pet_list[::-1] :\n",
    "    print(i)"
   ]
  },
  {
   "cell_type": "code",
   "execution_count": 29,
   "metadata": {},
   "outputs": [
    {
     "name": "stdout",
     "output_type": "stream",
     "text": [
      "5\n"
     ]
    }
   ],
   "source": [
    "pet_agelist = [ [\"dog\", \"bird\", \"cat\", \"flog\", \"snake\", \"rat\"], [10, 4, 5, 1, 4, 3]]\n",
    "print(pet_agelist[1][2])"
   ]
  },
  {
   "cell_type": "code",
   "execution_count": 55,
   "metadata": {},
   "outputs": [
    {
     "name": "stdout",
     "output_type": "stream",
     "text": [
      "dog\n",
      "cat\n",
      "bird\n",
      "snake\n",
      "rat\n",
      "flog\n"
     ]
    }
   ],
   "source": [
    "pet_agelist = [ [\"dog\", \"bird\", \"cat\", \"flog\", \"snake\", \"rat\"], [10, 4, 5, 1, 4, 3]]\n",
    "pet_agedict=dict(zip(pet_agelist[0],pet_agelist[1]))\n",
    "\n",
    "a=sorted(\n",
    "    pet_agedict.items(),\n",
    "    key=lambda x : x[1],\n",
    "    reverse=True\n",
    ")\n",
    "\n",
    "for i in a:\n",
    "    print(i[0])\n"
   ]
  },
  {
   "cell_type": "code",
   "execution_count": null,
   "metadata": {},
   "outputs": [],
   "source": []
  }
 ],
 "metadata": {
  "kernelspec": {
   "display_name": "Python 3",
   "language": "python",
   "name": "python3"
  },
  "language_info": {
   "codemirror_mode": {
    "name": "ipython",
    "version": 3
   },
   "file_extension": ".py",
   "mimetype": "text/x-python",
   "name": "python",
   "nbconvert_exporter": "python",
   "pygments_lexer": "ipython3",
   "version": "3.7.6"
  }
 },
 "nbformat": 4,
 "nbformat_minor": 4
}
